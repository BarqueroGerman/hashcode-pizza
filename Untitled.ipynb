{
 "cells": [
  {
   "cell_type": "markdown",
   "metadata": {},
   "source": [
    "# HASH CODE\n",
    "## Practice problem: PIZZA"
   ]
  },
  {
   "cell_type": "code",
   "execution_count": 34,
   "metadata": {},
   "outputs": [],
   "source": [
    "'''\n",
    "A - Example\n",
    "B - Small\n",
    "C - Medium\n",
    "D - Big\n",
    "'''\n",
    "inputFile = \"D\""
   ]
  },
  {
   "cell_type": "code",
   "execution_count": 35,
   "metadata": {},
   "outputs": [],
   "source": [
    "filename = \"a_example.in\"\n",
    "\n",
    "if(inputFile == \"B\"):\n",
    "    filename = \"b_small.in\"\n",
    "elif(inputFile == \"C\"):\n",
    "    filename = \"c_medium.in\"\n",
    "elif(inputFile == \"D\"):\n",
    "    filename = \"d_big.in\"\n"
   ]
  },
  {
   "cell_type": "code",
   "execution_count": 36,
   "metadata": {},
   "outputs": [],
   "source": [
    "def read_info(filename):\n",
    "    raw_content = open(filename).read()\n",
    "    \n",
    "    matrix = [el for el in raw_content.split('\\n') if el != '']\n",
    "    params = [el for el in matrix.pop(0).split(' ')] # we read the parameters\n",
    "    rows = params[0]\n",
    "    cols = params[1]\n",
    "    minIngr = params[2]\n",
    "    maxIngr = params[3]\n",
    "    \n",
    "    return matrix, rows, cols, minIngr, maxIngr"
   ]
  },
  {
   "cell_type": "code",
   "execution_count": 37,
   "metadata": {},
   "outputs": [],
   "source": [
    "def print_info(rows, cols, minIngr, maxIngr):\n",
    "    print(\"PIZZA INFO - SLICE REQUIREMENTS\")\n",
    "    print(\"-> Rows: \" + str(rows))\n",
    "    print(\"-> Cols: \" + str(cols))\n",
    "    print(\"-> Min of ingredients per slice: \" + str(minIngr))\n",
    "    print(\"-> Max of ingredients per slice: \" + str(maxIngr))"
   ]
  },
  {
   "cell_type": "code",
   "execution_count": 38,
   "metadata": {},
   "outputs": [],
   "source": [
    "def cut_pizza(filename):\n",
    "    m\n",
    "    print_info(rows, cols, minIngr, maxIngr)\n",
    "    result = []\n",
    "    return result"
   ]
  },
  {
   "cell_type": "code",
   "execution_count": 39,
   "metadata": {},
   "outputs": [
    {
     "name": "stdout",
     "output_type": "stream",
     "text": [
      "PIZZA INFO - SLICE REQUIREMENTS\n",
      "-> Rows: 1000\n",
      "-> Cols: 1000\n",
      "-> Min of ingredients per slice: 6\n",
      "-> Max of ingredients per slice: 14\n"
     ]
    },
    {
     "data": {
      "text/plain": [
       "[]"
      ]
     },
     "execution_count": 39,
     "metadata": {},
     "output_type": "execute_result"
    }
   ],
   "source": [
    "cut_pizza(matrix, rows, cols, minIngr, maxIngr)"
   ]
  },
  {
   "cell_type": "code",
   "execution_count": null,
   "metadata": {},
   "outputs": [],
   "source": []
  }
 ],
 "metadata": {
  "kernelspec": {
   "display_name": "Python 3",
   "language": "python",
   "name": "python3"
  },
  "language_info": {
   "codemirror_mode": {
    "name": "ipython",
    "version": 3
   },
   "file_extension": ".py",
   "mimetype": "text/x-python",
   "name": "python",
   "nbconvert_exporter": "python",
   "pygments_lexer": "ipython3",
   "version": "3.6.5"
  }
 },
 "nbformat": 4,
 "nbformat_minor": 2
}
